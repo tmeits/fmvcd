{
 "cells": [
  {
   "cell_type": "markdown",
   "metadata": {
    "collapsed": false
   },
   "source": [
    "### Tuning Machine Learning Models Using the Caret R Package\n",
    "+ http://weather.gladstonefamily.net/site/24763\n",
    "+ http://climatebase.ru/station/24763/60_80\n",
    "+ https://www.datacamp.com/courses/cleaning-data-in-r"
   ]
  },
  {
   "cell_type": "code",
   "execution_count": 101,
   "metadata": {
    "collapsed": false
   },
   "outputs": [
    {
     "name": "stdout",
     "output_type": "stream",
     "text": [
      "'zoo' series from 1 to 8\n",
      "  Data: num [1:6] 2 NA 1 4 5 2\n",
      "  Index:  num [1:6] 1 3 4 6 7 8\n"
     ]
    },
    {
     "data": {
      "text/plain": [
       " 1  3  4  6  7  8 \n",
       " 2 NA  1  4  5  2 "
      ]
     },
     "metadata": {},
     "output_type": "display_data"
    },
    {
     "data": {
      "text/plain": [
       "       1        3        4        6        7        8 \n",
       "2.000000 1.333333 1.000000 4.000000 5.000000 2.000000 "
      ]
     },
     "metadata": {},
     "output_type": "display_data"
    },
    {
     "data": {
      "text/plain": [
       "  1   3   4   6   7   8 \n",
       "2.0 1.5 1.0 4.0 5.0 2.0 "
      ]
     },
     "metadata": {},
     "output_type": "display_data"
    }
   ],
   "source": [
    "# http://stackoverflow.com/questions/18695335/replacing-all-nas-with-smoothing-spline\n",
    "# https://www.rdocumentation.org/packages/zoo/versions/1.7-14/topics/na.approx\n",
    "require(zoo)\n",
    "z <- zoo(c(2, NA, 1, 4, 5, 2), c(1, 3, 4, 6, 7, 8))\n",
    "str(z)\n",
    "z\n",
    "## use underlying time scale for interpolation\n",
    "na.approx(z) \n",
    "## use equidistant spacing\n",
    "na.approx(z, 1:6)"
   ]
  },
  {
   "cell_type": "code",
   "execution_count": 97,
   "metadata": {
    "collapsed": false
   },
   "outputs": [
    {
     "data": {
      "text/html": [
       "'C:/Users/IVA/Dropbox/Apps/R'"
      ],
      "text/latex": [
       "'C:/Users/IVA/Dropbox/Apps/R'"
      ],
      "text/markdown": [
       "'C:/Users/IVA/Dropbox/Apps/R'"
      ],
      "text/plain": [
       "[1] \"C:/Users/IVA/Dropbox/Apps/R\""
      ]
     },
     "metadata": {},
     "output_type": "display_data"
    },
    {
     "name": "stdout",
     "output_type": "stream",
     "text": [
      " int [1:365] -486 -515 -466 NA -481 -527 -522 -472 NA NA ...\n"
     ]
    },
    {
     "data": {
      "text/plain": [
       "[1] NA"
      ]
     },
     "metadata": {},
     "output_type": "display_data"
    }
   ],
   "source": [
    "filled_path <- \"C:/Users/IVA/Dropbox/Apps/R/\"\n",
    "setwd(filled_path); getwd()\n",
    "cli_dataset <-read.table(\"1967.cli\", header=FALSE, sep=\"\")\n",
    "names(cli_dataset) <- c(\"day\", \"month\", \"year\", \"prec\", \"temp\");\n",
    "cli_dataset[cli_dataset$prec == -9999, 4] <- NA # vector <- cli_dataset[, 4];\n",
    "cli_dataset[cli_dataset$temp == -9999, 5] <- NA ; vector <- cli_dataset[, 5]; \n",
    "str(vector)\n",
    "days <- dim(cli_dataset)[1]\n",
    "mean(vector, na.spline=T)"
   ]
  },
  {
   "cell_type": "code",
   "execution_count": 95,
   "metadata": {
    "collapsed": false
   },
   "outputs": [
    {
     "data": {
      "text/html": [
       "<table>\n",
       "<thead><tr><th></th><th scope=col>day</th><th scope=col>month</th><th scope=col>year</th><th scope=col>prec</th><th scope=col>temp</th></tr></thead>\n",
       "<tbody>\n",
       "\t<tr><th scope=row>4</th><td> 4  </td><td> 1  </td><td>1967</td><td>NA  </td><td> NA </td></tr>\n",
       "\t<tr><th scope=row>9</th><td> 9  </td><td> 1  </td><td>1967</td><td>NA  </td><td> NA </td></tr>\n",
       "\t<tr><th scope=row>10</th><td>10  </td><td> 1  </td><td>1967</td><td>NA  </td><td> NA </td></tr>\n",
       "\t<tr><th scope=row>12</th><td>12  </td><td> 1  </td><td>1967</td><td>NA  </td><td> NA </td></tr>\n",
       "\t<tr><th scope=row>13</th><td>13  </td><td> 1  </td><td>1967</td><td>NA  </td><td> NA </td></tr>\n",
       "\t<tr><th scope=row>14</th><td>14  </td><td> 1  </td><td>1967</td><td>NA  </td><td> NA </td></tr>\n",
       "\t<tr><th scope=row>16</th><td>16  </td><td> 1  </td><td>1967</td><td>NA  </td><td> NA </td></tr>\n",
       "\t<tr><th scope=row>17</th><td>17  </td><td> 1  </td><td>1967</td><td>NA  </td><td> NA </td></tr>\n",
       "\t<tr><th scope=row>24</th><td>24  </td><td> 1  </td><td>1967</td><td>NA  </td><td> NA </td></tr>\n",
       "\t<tr><th scope=row>27</th><td>27  </td><td> 1  </td><td>1967</td><td>NA  </td><td> NA </td></tr>\n",
       "\t<tr><th scope=row>30</th><td>30  </td><td> 1  </td><td>1967</td><td>NA  </td><td> NA </td></tr>\n",
       "\t<tr><th scope=row>39</th><td> 8  </td><td> 2  </td><td>1967</td><td> 0  </td><td> NA </td></tr>\n",
       "\t<tr><th scope=row>40</th><td> 9  </td><td> 2  </td><td>1967</td><td>NA  </td><td> NA </td></tr>\n",
       "\t<tr><th scope=row>54</th><td>23  </td><td> 2  </td><td>1967</td><td>NA  </td><td> NA </td></tr>\n",
       "\t<tr><th scope=row>56</th><td>25  </td><td> 2  </td><td>1967</td><td>NA  </td><td> NA </td></tr>\n",
       "\t<tr><th scope=row>69</th><td>10  </td><td> 3  </td><td>1967</td><td>NA  </td><td> NA </td></tr>\n",
       "\t<tr><th scope=row>70</th><td>11  </td><td> 3  </td><td>1967</td><td>NA  </td><td> NA </td></tr>\n",
       "\t<tr><th scope=row>93</th><td> 3  </td><td> 4  </td><td>1967</td><td>NA  </td><td> NA </td></tr>\n",
       "\t<tr><th scope=row>96</th><td> 6  </td><td> 4  </td><td>1967</td><td>NA  </td><td> NA </td></tr>\n",
       "\t<tr><th scope=row>107</th><td>17  </td><td> 4  </td><td>1967</td><td>NA  </td><td> NA </td></tr>\n",
       "\t<tr><th scope=row>110</th><td>20  </td><td> 4  </td><td>1967</td><td>NA  </td><td> NA </td></tr>\n",
       "\t<tr><th scope=row>111</th><td>21  </td><td> 4  </td><td>1967</td><td>NA  </td><td> NA </td></tr>\n",
       "\t<tr><th scope=row>112</th><td>22  </td><td> 4  </td><td>1967</td><td>NA  </td><td> NA </td></tr>\n",
       "\t<tr><th scope=row>119</th><td>29  </td><td> 4  </td><td>1967</td><td>NA  </td><td>-57 </td></tr>\n",
       "\t<tr><th scope=row>120</th><td>30  </td><td> 4  </td><td>1967</td><td>NA  </td><td> NA </td></tr>\n",
       "\t<tr><th scope=row>130</th><td>10  </td><td> 5  </td><td>1967</td><td>NA  </td><td> NA </td></tr>\n",
       "\t<tr><th scope=row>148</th><td>28  </td><td> 5  </td><td>1967</td><td>NA  </td><td> NA </td></tr>\n",
       "\t<tr><th scope=row>196</th><td>15  </td><td> 7  </td><td>1967</td><td>NA  </td><td> NA </td></tr>\n",
       "\t<tr><th scope=row>202</th><td>21  </td><td> 7  </td><td>1967</td><td>NA  </td><td> NA </td></tr>\n",
       "\t<tr><th scope=row>226</th><td>14  </td><td> 8  </td><td>1967</td><td>NA  </td><td> NA </td></tr>\n",
       "\t<tr><th scope=row>249</th><td> 6  </td><td> 9  </td><td>1967</td><td>NA  </td><td> NA </td></tr>\n",
       "\t<tr><th scope=row>320</th><td>16  </td><td>11  </td><td>1967</td><td>NA  </td><td> NA </td></tr>\n",
       "\t<tr><th scope=row>330</th><td>26  </td><td>11  </td><td>1967</td><td>NA  </td><td> NA </td></tr>\n",
       "\t<tr><th scope=row>337</th><td> 3  </td><td>12  </td><td>1967</td><td>NA  </td><td> NA </td></tr>\n",
       "</tbody>\n",
       "</table>\n"
      ],
      "text/latex": [
       "\\begin{tabular}{r|lllll}\n",
       "  & day & month & year & prec & temp\\\\\n",
       "\\hline\n",
       "\t4 &  4   &  1   & 1967 & NA   &  NA \\\\\n",
       "\t9 &  9   &  1   & 1967 & NA   &  NA \\\\\n",
       "\t10 & 10   &  1   & 1967 & NA   &  NA \\\\\n",
       "\t12 & 12   &  1   & 1967 & NA   &  NA \\\\\n",
       "\t13 & 13   &  1   & 1967 & NA   &  NA \\\\\n",
       "\t14 & 14   &  1   & 1967 & NA   &  NA \\\\\n",
       "\t16 & 16   &  1   & 1967 & NA   &  NA \\\\\n",
       "\t17 & 17   &  1   & 1967 & NA   &  NA \\\\\n",
       "\t24 & 24   &  1   & 1967 & NA   &  NA \\\\\n",
       "\t27 & 27   &  1   & 1967 & NA   &  NA \\\\\n",
       "\t30 & 30   &  1   & 1967 & NA   &  NA \\\\\n",
       "\t39 &  8   &  2   & 1967 &  0   &  NA \\\\\n",
       "\t40 &  9   &  2   & 1967 & NA   &  NA \\\\\n",
       "\t54 & 23   &  2   & 1967 & NA   &  NA \\\\\n",
       "\t56 & 25   &  2   & 1967 & NA   &  NA \\\\\n",
       "\t69 & 10   &  3   & 1967 & NA   &  NA \\\\\n",
       "\t70 & 11   &  3   & 1967 & NA   &  NA \\\\\n",
       "\t93 &  3   &  4   & 1967 & NA   &  NA \\\\\n",
       "\t96 &  6   &  4   & 1967 & NA   &  NA \\\\\n",
       "\t107 & 17   &  4   & 1967 & NA   &  NA \\\\\n",
       "\t110 & 20   &  4   & 1967 & NA   &  NA \\\\\n",
       "\t111 & 21   &  4   & 1967 & NA   &  NA \\\\\n",
       "\t112 & 22   &  4   & 1967 & NA   &  NA \\\\\n",
       "\t119 & 29   &  4   & 1967 & NA   & -57 \\\\\n",
       "\t120 & 30   &  4   & 1967 & NA   &  NA \\\\\n",
       "\t130 & 10   &  5   & 1967 & NA   &  NA \\\\\n",
       "\t148 & 28   &  5   & 1967 & NA   &  NA \\\\\n",
       "\t196 & 15   &  7   & 1967 & NA   &  NA \\\\\n",
       "\t202 & 21   &  7   & 1967 & NA   &  NA \\\\\n",
       "\t226 & 14   &  8   & 1967 & NA   &  NA \\\\\n",
       "\t249 &  6   &  9   & 1967 & NA   &  NA \\\\\n",
       "\t320 & 16   & 11   & 1967 & NA   &  NA \\\\\n",
       "\t330 & 26   & 11   & 1967 & NA   &  NA \\\\\n",
       "\t337 &  3   & 12   & 1967 & NA   &  NA \\\\\n",
       "\\end{tabular}\n"
      ],
      "text/markdown": [
       "\n",
       "| <!--/--> | day | month | year | prec | temp | \n",
       "|---|---|---|---|---|---|---|---|---|---|---|---|---|---|---|---|---|---|---|---|---|---|---|---|---|---|---|---|---|---|---|---|---|---|\n",
       "| 4 |  4   |  1   | 1967 | NA   |  NA  | \n",
       "| 9 |  9   |  1   | 1967 | NA   |  NA  | \n",
       "| 10 | 10   |  1   | 1967 | NA   |  NA  | \n",
       "| 12 | 12   |  1   | 1967 | NA   |  NA  | \n",
       "| 13 | 13   |  1   | 1967 | NA   |  NA  | \n",
       "| 14 | 14   |  1   | 1967 | NA   |  NA  | \n",
       "| 16 | 16   |  1   | 1967 | NA   |  NA  | \n",
       "| 17 | 17   |  1   | 1967 | NA   |  NA  | \n",
       "| 24 | 24   |  1   | 1967 | NA   |  NA  | \n",
       "| 27 | 27   |  1   | 1967 | NA   |  NA  | \n",
       "| 30 | 30   |  1   | 1967 | NA   |  NA  | \n",
       "| 39 |  8   |  2   | 1967 |  0   |  NA  | \n",
       "| 40 |  9   |  2   | 1967 | NA   |  NA  | \n",
       "| 54 | 23   |  2   | 1967 | NA   |  NA  | \n",
       "| 56 | 25   |  2   | 1967 | NA   |  NA  | \n",
       "| 69 | 10   |  3   | 1967 | NA   |  NA  | \n",
       "| 70 | 11   |  3   | 1967 | NA   |  NA  | \n",
       "| 93 |  3   |  4   | 1967 | NA   |  NA  | \n",
       "| 96 |  6   |  4   | 1967 | NA   |  NA  | \n",
       "| 107 | 17   |  4   | 1967 | NA   |  NA  | \n",
       "| 110 | 20   |  4   | 1967 | NA   |  NA  | \n",
       "| 111 | 21   |  4   | 1967 | NA   |  NA  | \n",
       "| 112 | 22   |  4   | 1967 | NA   |  NA  | \n",
       "| 119 | 29   |  4   | 1967 | NA   | -57  | \n",
       "| 120 | 30   |  4   | 1967 | NA   |  NA  | \n",
       "| 130 | 10   |  5   | 1967 | NA   |  NA  | \n",
       "| 148 | 28   |  5   | 1967 | NA   |  NA  | \n",
       "| 196 | 15   |  7   | 1967 | NA   |  NA  | \n",
       "| 202 | 21   |  7   | 1967 | NA   |  NA  | \n",
       "| 226 | 14   |  8   | 1967 | NA   |  NA  | \n",
       "| 249 |  6   |  9   | 1967 | NA   |  NA  | \n",
       "| 320 | 16   | 11   | 1967 | NA   |  NA  | \n",
       "| 330 | 26   | 11   | 1967 | NA   |  NA  | \n",
       "| 337 |  3   | 12   | 1967 | NA   |  NA  | \n",
       "\n",
       "\n"
      ],
      "text/plain": [
       "    day month year prec temp\n",
       "4    4   1    1967 NA    NA \n",
       "9    9   1    1967 NA    NA \n",
       "10  10   1    1967 NA    NA \n",
       "12  12   1    1967 NA    NA \n",
       "13  13   1    1967 NA    NA \n",
       "14  14   1    1967 NA    NA \n",
       "16  16   1    1967 NA    NA \n",
       "17  17   1    1967 NA    NA \n",
       "24  24   1    1967 NA    NA \n",
       "27  27   1    1967 NA    NA \n",
       "30  30   1    1967 NA    NA \n",
       "39   8   2    1967  0    NA \n",
       "40   9   2    1967 NA    NA \n",
       "54  23   2    1967 NA    NA \n",
       "56  25   2    1967 NA    NA \n",
       "69  10   3    1967 NA    NA \n",
       "70  11   3    1967 NA    NA \n",
       "93   3   4    1967 NA    NA \n",
       "96   6   4    1967 NA    NA \n",
       "107 17   4    1967 NA    NA \n",
       "110 20   4    1967 NA    NA \n",
       "111 21   4    1967 NA    NA \n",
       "112 22   4    1967 NA    NA \n",
       "119 29   4    1967 NA   -57 \n",
       "120 30   4    1967 NA    NA \n",
       "130 10   5    1967 NA    NA \n",
       "148 28   5    1967 NA    NA \n",
       "196 15   7    1967 NA    NA \n",
       "202 21   7    1967 NA    NA \n",
       "226 14   8    1967 NA    NA \n",
       "249  6   9    1967 NA    NA \n",
       "320 16  11    1967 NA    NA \n",
       "330 26  11    1967 NA    NA \n",
       "337  3  12    1967 NA    NA "
      ]
     },
     "metadata": {},
     "output_type": "display_data"
    },
    {
     "ename": "ERROR",
     "evalue": "Error in vector[!complete.cases(vector), ]: неправильное количество измерений\n",
     "output_type": "error",
     "traceback": [
      "Error in vector[!complete.cases(vector), ]: неправильное количество измерений\nTraceback:\n"
     ]
    }
   ],
   "source": [
    "cli_dataset[!complete.cases(cli_dataset),]\n",
    "vector[!complete.cases(vector)]"
   ]
  },
  {
   "cell_type": "code",
   "execution_count": 90,
   "metadata": {
    "collapsed": false,
    "scrolled": true
   },
   "outputs": [
    {
     "data": {
      "text/html": [
       "251"
      ],
      "text/latex": [
       "251"
      ],
      "text/markdown": [
       "251"
      ],
      "text/plain": [
       "[1] 251"
      ]
     },
     "metadata": {},
     "output_type": "display_data"
    },
    {
     "name": "stdout",
     "output_type": "stream",
     "text": [
      " num [1:365] -1.94 -2.05 -1.86 NA -1.92 ...\n"
     ]
    },
    {
     "data": {
      "text/plain": [
       "   Min. 1st Qu.  Median    Mean 3rd Qu.    Max.    NA's \n",
       "-2.1590 -1.3800 -0.1534 -0.4380  0.4183  1.0000      33 "
      ]
     },
     "metadata": {},
     "output_type": "display_data"
    },
    {
     "data": {
      "text/plain": [
       "       y                 x1                x2                x3         \n",
       " Min.   :-2.1594   Min.   :-2.1594   Min.   :-2.1594   Min.   :-2.1594  \n",
       " 1st Qu.:-1.3805   1st Qu.:-1.3725   1st Qu.:-1.3616   1st Qu.:-1.3466  \n",
       " Median :-0.1534   Median :-0.1474   Median :-0.1375   Median :-0.1275  \n",
       " Mean   :-0.4380   Mean   :-0.4331   Mean   :-0.4281   Mean   :-0.4229  \n",
       " 3rd Qu.: 0.4183   3rd Qu.: 0.4183   3rd Qu.: 0.4183   3rd Qu.: 0.4183  \n",
       " Max.   : 1.0000   Max.   : 1.0000   Max.   : 1.0000   Max.   : 1.0000  \n",
       "                   NA's   :1         NA's   :2         NA's   :3        "
      ]
     },
     "metadata": {},
     "output_type": "display_data"
    }
   ],
   "source": [
    "#Load Packages\n",
    "require(quantmod) #for Lag()\n",
    "require(nnet)\n",
    "require(neuralnet)\n",
    "library(plyr) \n",
    "require(caret)\n",
    "\n",
    "#Make toy dataset\n",
    "max((vector), na.rm = T)\n",
    "y <- vector / max((vector), na.rm = T)\n",
    "str(y)\n",
    "summary(y)\n",
    "y <- na.omit(y)\n",
    "te <- data.frame(y, x1=Lag(y,1), x2=Lag(y,2), x3=Lag(y,3))\n",
    "names(te) <- c(\"y\", \"x1\", \"x2\", \"x3\")\n",
    "\n",
    "summary(te)"
   ]
  },
  {
   "cell_type": "code",
   "execution_count": 91,
   "metadata": {
    "collapsed": false
   },
   "outputs": [
    {
     "name": "stdout",
     "output_type": "stream",
     "text": [
      "'data.frame':\t9 obs. of  2 variables:\n",
      " $ .size : num  1 5 10 1 5 10 1 5 10\n",
      " $ .decay: num  0 0 0 0.01 0.01 0.01 0.001 0.001 0.001\n",
      " - attr(*, \"out.attrs\")=List of 2\n",
      "  ..$ dim     : Named int  3 3\n",
      "  .. ..- attr(*, \"names\")= chr  \".size\" \".decay\"\n",
      "  ..$ dimnames:List of 2\n",
      "  .. ..$ .size : chr  \".size= 1\" \".size= 5\" \".size=10\"\n",
      "  .. ..$ .decay: chr  \".decay=0.000\" \".decay=0.010\" \".decay=0.001\"\n"
     ]
    }
   ],
   "source": [
    "my.grid <- expand.grid(.size=c(1,5,10), .decay=c(0, 0.01, 0.001))\n",
    "str(my.grid)"
   ]
  },
  {
   "cell_type": "code",
   "execution_count": 92,
   "metadata": {
    "collapsed": false
   },
   "outputs": [
    {
     "data": {
      "text/plain": [
       "Time difference of 22.46404 secs"
      ]
     },
     "metadata": {},
     "output_type": "display_data"
    }
   ],
   "source": [
    "#Fit model\n",
    "start.time <- Sys.time()\n",
    "model <- train(y ~ x1 + x2 + x3, te, method='nnet', linout=TRUE, trace = FALSE, na.action = na.omit , # preProcess=\"scale\",\n",
    "                #Grid of tuning parameters to try:\n",
    "                tuneGrid=expand.grid(.size=c(1,5,10), .decay=c(0, 0.01, 0.001))) \n",
    "end.time <- Sys.time()\n",
    "time.taken <- end.time - start.time\n",
    "time.taken\n",
    "#Time difference of 54.70013 secs Core2Duo"
   ]
  },
  {
   "cell_type": "code",
   "execution_count": 84,
   "metadata": {
    "collapsed": false
   },
   "outputs": [
    {
     "data": {},
     "metadata": {},
     "output_type": "display_data"
    },
    {
     "data": {
      "image/png": "[encoded data removed]",
      "text/plain": [
       "plot without title"
      ]
     },
     "metadata": {},
     "output_type": "display_data"
    }
   ],
   "source": [
    "plot(model)"
   ]
  },
  {
   "cell_type": "code",
   "execution_count": 88,
   "metadata": {
    "collapsed": true
   },
   "outputs": [
    {
     "data": {
      "text/html": [
       "<table>\n",
       "<tbody>\n",
       "\t<tr><th scope=row>4</th><td>-1.826425</td></tr>\n",
       "\t<tr><th scope=row>8</th><td>-1.979065</td></tr>\n",
       "\t<tr><th scope=row>9</th><td>-1.850976</td></tr>\n",
       "\t<tr><th scope=row>21</th><td>-1.847547</td></tr>\n",
       "\t<tr><th scope=row>22</th><td>-1.546357</td></tr>\n",
       "\t<tr><th scope=row>23</th><td>-1.668114</td></tr>\n",
       "\t<tr><th scope=row>24</th><td>-1.821591</td></tr>\n",
       "\t<tr><th scope=row>34</th><td>-1.871358</td></tr>\n",
       "\t<tr><th scope=row>35</th><td>-1.946910</td></tr>\n",
       "\t<tr><th scope=row>36</th><td>-1.754102</td></tr>\n",
       "\t<tr><th scope=row>37</th><td>-1.779441</td></tr>\n",
       "\t<tr><th scope=row>38</th><td>-1.719490</td></tr>\n",
       "\t<tr><th scope=row>39</th><td>-1.775544</td></tr>\n",
       "\t<tr><th scope=row>44</th><td>-1.762365</td></tr>\n",
       "\t<tr><th scope=row>45</th><td>-1.727790</td></tr>\n",
       "\t<tr><th scope=row>46</th><td>-1.644617</td></tr>\n",
       "\t<tr><th scope=row>47</th><td>-1.554019</td></tr>\n",
       "\t<tr><th scope=row>48</th><td>-1.559154</td></tr>\n",
       "\t<tr><th scope=row>49</th><td>-1.464615</td></tr>\n",
       "\t<tr><th scope=row>50</th><td>-1.423860</td></tr>\n",
       "\t<tr><th scope=row>51</th><td>-1.168808</td></tr>\n",
       "\t<tr><th scope=row>52</th><td>-1.380679</td></tr>\n",
       "\t<tr><th scope=row>53</th><td>-1.192928</td></tr>\n",
       "\t<tr><th scope=row>54</th><td>-1.409935</td></tr>\n",
       "\t<tr><th scope=row>60</th><td>-1.542955</td></tr>\n",
       "\t<tr><th scope=row>61</th><td>-1.245569</td></tr>\n",
       "\t<tr><th scope=row>62</th><td>-1.233840</td></tr>\n",
       "\t<tr><th scope=row>63</th><td>-1.260256</td></tr>\n",
       "\t<tr><th scope=row>64</th><td>-1.106805</td></tr>\n",
       "\t<tr><th scope=row>65</th><td>-1.234214</td></tr>\n",
       "\t<tr><th scope=row>...</th><td>...</td></tr>\n",
       "\t<tr><th scope=row>330</th><td>-1.304236</td></tr>\n",
       "\t<tr><th scope=row>334</th><td>-1.669258</td></tr>\n",
       "\t<tr><th scope=row>335</th><td>-1.685284</td></tr>\n",
       "\t<tr><th scope=row>336</th><td>-1.630782</td></tr>\n",
       "\t<tr><th scope=row>337</th><td>-1.688584</td></tr>\n",
       "\t<tr><th scope=row>341</th><td>-1.751853</td></tr>\n",
       "\t<tr><th scope=row>342</th><td>-1.756049</td></tr>\n",
       "\t<tr><th scope=row>343</th><td>-1.698257</td></tr>\n",
       "\t<tr><th scope=row>344</th><td>-1.457056</td></tr>\n",
       "\t<tr><th scope=row>345</th><td>-1.489054</td></tr>\n",
       "\t<tr><th scope=row>346</th><td>-1.658434</td></tr>\n",
       "\t<tr><th scope=row>347</th><td>-1.615472</td></tr>\n",
       "\t<tr><th scope=row>348</th><td>-1.492807</td></tr>\n",
       "\t<tr><th scope=row>349</th><td>-1.551957</td></tr>\n",
       "\t<tr><th scope=row>350</th><td>-1.334791</td></tr>\n",
       "\t<tr><th scope=row>351</th><td>-1.594739</td></tr>\n",
       "\t<tr><th scope=row>352</th><td>-1.423461</td></tr>\n",
       "\t<tr><th scope=row>353</th><td>-1.580175</td></tr>\n",
       "\t<tr><th scope=row>354</th><td>-1.743395</td></tr>\n",
       "\t<tr><th scope=row>355</th><td>-1.787711</td></tr>\n",
       "\t<tr><th scope=row>356</th><td>-1.847491</td></tr>\n",
       "\t<tr><th scope=row>357</th><td>-1.881131</td></tr>\n",
       "\t<tr><th scope=row>358</th><td>-1.845898</td></tr>\n",
       "\t<tr><th scope=row>359</th><td>-1.848257</td></tr>\n",
       "\t<tr><th scope=row>360</th><td>-1.827447</td></tr>\n",
       "\t<tr><th scope=row>361</th><td>-1.855812</td></tr>\n",
       "\t<tr><th scope=row>362</th><td>-1.962149</td></tr>\n",
       "\t<tr><th scope=row>363</th><td>-2.003189</td></tr>\n",
       "\t<tr><th scope=row>364</th><td>-2.019141</td></tr>\n",
       "\t<tr><th scope=row>365</th><td>-1.988259</td></tr>\n",
       "</tbody>\n",
       "</table>\n"
      ],
      "text/latex": [
       "\\begin{tabular}{r|l}\n",
       "\t4 & -1.826425\\\\\n",
       "\t8 & -1.979065\\\\\n",
       "\t9 & -1.850976\\\\\n",
       "\t21 & -1.847547\\\\\n",
       "\t22 & -1.546357\\\\\n",
       "\t23 & -1.668114\\\\\n",
       "\t24 & -1.821591\\\\\n",
       "\t34 & -1.871358\\\\\n",
       "\t35 & -1.946910\\\\\n",
       "\t36 & -1.754102\\\\\n",
       "\t37 & -1.779441\\\\\n",
       "\t38 & -1.719490\\\\\n",
       "\t39 & -1.775544\\\\\n",
       "\t44 & -1.762365\\\\\n",
       "\t45 & -1.727790\\\\\n",
       "\t46 & -1.644617\\\\\n",
       "\t47 & -1.554019\\\\\n",
       "\t48 & -1.559154\\\\\n",
       "\t49 & -1.464615\\\\\n",
       "\t50 & -1.423860\\\\\n",
       "\t51 & -1.168808\\\\\n",
       "\t52 & -1.380679\\\\\n",
       "\t53 & -1.192928\\\\\n",
       "\t54 & -1.409935\\\\\n",
       "\t60 & -1.542955\\\\\n",
       "\t61 & -1.245569\\\\\n",
       "\t62 & -1.233840\\\\\n",
       "\t63 & -1.260256\\\\\n",
       "\t64 & -1.106805\\\\\n",
       "\t65 & -1.234214\\\\\n",
       "\t... & ...\\\\\n",
       "\t330 & -1.304236\\\\\n",
       "\t334 & -1.669258\\\\\n",
       "\t335 & -1.685284\\\\\n",
       "\t336 & -1.630782\\\\\n",
       "\t337 & -1.688584\\\\\n",
       "\t341 & -1.751853\\\\\n",
       "\t342 & -1.756049\\\\\n",
       "\t343 & -1.698257\\\\\n",
       "\t344 & -1.457056\\\\\n",
       "\t345 & -1.489054\\\\\n",
       "\t346 & -1.658434\\\\\n",
       "\t347 & -1.615472\\\\\n",
       "\t348 & -1.492807\\\\\n",
       "\t349 & -1.551957\\\\\n",
       "\t350 & -1.334791\\\\\n",
       "\t351 & -1.594739\\\\\n",
       "\t352 & -1.423461\\\\\n",
       "\t353 & -1.580175\\\\\n",
       "\t354 & -1.743395\\\\\n",
       "\t355 & -1.787711\\\\\n",
       "\t356 & -1.847491\\\\\n",
       "\t357 & -1.881131\\\\\n",
       "\t358 & -1.845898\\\\\n",
       "\t359 & -1.848257\\\\\n",
       "\t360 & -1.827447\\\\\n",
       "\t361 & -1.855812\\\\\n",
       "\t362 & -1.962149\\\\\n",
       "\t363 & -2.003189\\\\\n",
       "\t364 & -2.019141\\\\\n",
       "\t365 & -1.988259\\\\\n",
       "\\end{tabular}\n"
      ],
      "text/markdown": [
       "\n",
       "| 4 | -1.826425 | \n",
       "| 8 | -1.979065 | \n",
       "| 9 | -1.850976 | \n",
       "| 21 | -1.847547 | \n",
       "| 22 | -1.546357 | \n",
       "| 23 | -1.668114 | \n",
       "| 24 | -1.821591 | \n",
       "| 34 | -1.871358 | \n",
       "| 35 | -1.946910 | \n",
       "| 36 | -1.754102 | \n",
       "| 37 | -1.779441 | \n",
       "| 38 | -1.719490 | \n",
       "| 39 | -1.775544 | \n",
       "| 44 | -1.762365 | \n",
       "| 45 | -1.727790 | \n",
       "| 46 | -1.644617 | \n",
       "| 47 | -1.554019 | \n",
       "| 48 | -1.559154 | \n",
       "| 49 | -1.464615 | \n",
       "| 50 | -1.423860 | \n",
       "| 51 | -1.168808 | \n",
       "| 52 | -1.380679 | \n",
       "| 53 | -1.192928 | \n",
       "| 54 | -1.409935 | \n",
       "| 60 | -1.542955 | \n",
       "| 61 | -1.245569 | \n",
       "| 62 | -1.233840 | \n",
       "| 63 | -1.260256 | \n",
       "| 64 | -1.106805 | \n",
       "| 65 | -1.234214 | \n",
       "| ... | ... | \n",
       "| 330 | -1.304236 | \n",
       "| 334 | -1.669258 | \n",
       "| 335 | -1.685284 | \n",
       "| 336 | -1.630782 | \n",
       "| 337 | -1.688584 | \n",
       "| 341 | -1.751853 | \n",
       "| 342 | -1.756049 | \n",
       "| 343 | -1.698257 | \n",
       "| 344 | -1.457056 | \n",
       "| 345 | -1.489054 | \n",
       "| 346 | -1.658434 | \n",
       "| 347 | -1.615472 | \n",
       "| 348 | -1.492807 | \n",
       "| 349 | -1.551957 | \n",
       "| 350 | -1.334791 | \n",
       "| 351 | -1.594739 | \n",
       "| 352 | -1.423461 | \n",
       "| 353 | -1.580175 | \n",
       "| 354 | -1.743395 | \n",
       "| 355 | -1.787711 | \n",
       "| 356 | -1.847491 | \n",
       "| 357 | -1.881131 | \n",
       "| 358 | -1.845898 | \n",
       "| 359 | -1.848257 | \n",
       "| 360 | -1.827447 | \n",
       "| 361 | -1.855812 | \n",
       "| 362 | -1.962149 | \n",
       "| 363 | -2.003189 | \n",
       "| 364 | -2.019141 | \n",
       "| 365 | -1.988259 | \n",
       "\n",
       "\n"
      ],
      "text/plain": [
       "    [,1]     \n",
       "4   -1.826425\n",
       "8   -1.979065\n",
       "9   -1.850976\n",
       "21  -1.847547\n",
       "22  -1.546357\n",
       "23  -1.668114\n",
       "24  -1.821591\n",
       "34  -1.871358\n",
       "35  -1.946910\n",
       "36  -1.754102\n",
       "37  -1.779441\n",
       "38  -1.719490\n",
       "39  -1.775544\n",
       "44  -1.762365\n",
       "45  -1.727790\n",
       "46  -1.644617\n",
       "47  -1.554019\n",
       "48  -1.559154\n",
       "49  -1.464615\n",
       "50  -1.423860\n",
       "51  -1.168808\n",
       "52  -1.380679\n",
       "53  -1.192928\n",
       "54  -1.409935\n",
       "60  -1.542955\n",
       "61  -1.245569\n",
       "62  -1.233840\n",
       "63  -1.260256\n",
       "64  -1.106805\n",
       "65  -1.234214\n",
       "... ...      \n",
       "330 -1.304236\n",
       "334 -1.669258\n",
       "335 -1.685284\n",
       "336 -1.630782\n",
       "337 -1.688584\n",
       "341 -1.751853\n",
       "342 -1.756049\n",
       "343 -1.698257\n",
       "344 -1.457056\n",
       "345 -1.489054\n",
       "346 -1.658434\n",
       "347 -1.615472\n",
       "348 -1.492807\n",
       "349 -1.551957\n",
       "350 -1.334791\n",
       "351 -1.594739\n",
       "352 -1.423461\n",
       "353 -1.580175\n",
       "354 -1.743395\n",
       "355 -1.787711\n",
       "356 -1.847491\n",
       "357 -1.881131\n",
       "358 -1.845898\n",
       "359 -1.848257\n",
       "360 -1.827447\n",
       "361 -1.855812\n",
       "362 -1.962149\n",
       "363 -2.003189\n",
       "364 -2.019141\n",
       "365 -1.988259"
      ]
     },
     "metadata": {},
     "output_type": "display_data"
    },
    {
     "data": {
      "text/plain": [
       "Neural Network \n",
       "\n",
       "264 samples\n",
       "  3 predictor\n",
       "\n",
       "No pre-processing\n",
       "Resampling: Bootstrapped (25 reps) \n",
       "Summary of sample sizes: 264, 264, 264, 264, 264, 264, ... \n",
       "Resampling results across tuning parameters:\n",
       "\n",
       "  size  decay  RMSE       Rsquared \n",
       "   1    0.000  0.1315017  0.9785292\n",
       "   1    0.001  0.1314861  0.9785159\n",
       "   1    0.010  0.1323646  0.9781916\n",
       "   5    0.000  0.1435350  0.9745037\n",
       "   5    0.001  0.1390085  0.9760499\n",
       "   5    0.010  0.1335267  0.9778773\n",
       "  10    0.000  0.1481407  0.9727126\n",
       "  10    0.001  0.1415046  0.9752101\n",
       "  10    0.010  0.1329420  0.9780638\n",
       "\n",
       "RMSE was used to select the optimal model using  the smallest value.\n",
       "The final values used for the model were size = 1 and decay = 0.001. "
      ]
     },
     "metadata": {},
     "output_type": "display_data"
    },
    {
     "data": {
      "image/png": "[encoded data removed]",
      "text/plain": [
       "plot without title"
      ]
     },
     "metadata": {},
     "output_type": "display_data"
    }
   ],
   "source": [
    "ps <- predict(model, te)\n",
    "ps\n",
    "#Examine results\n",
    "model\n",
    "plot(y)\n",
    "lines(ps, col=2)"
   ]
  },
  {
   "cell_type": "code",
   "execution_count": null,
   "metadata": {
    "collapsed": true
   },
   "outputs": [],
   "source": [
    "te <- data.frame(y, x1=Lag(y,3), x2=Lag(y,1), x3=Lag(y,2))\n",
    "ps <- predict(model, days)\n",
    "\n",
    "#Examine results\n",
    "model\n",
    "plot(y)\n",
    "lines(ps, col=2)"
   ]
  },
  {
   "cell_type": "code",
   "execution_count": 80,
   "metadata": {
    "collapsed": false
   },
   "outputs": [
    {
     "name": "stdout",
     "output_type": "stream",
     "text": [
      " int [1:365] 0 0 0 NA 4 0 0 2 NA NA ...\n"
     ]
    }
   ],
   "source": [
    "vector <- cli_dataset[, 4];\n",
    "str(vector)\n"
   ]
  },
  {
   "cell_type": "markdown",
   "metadata": {},
   "source": [
    "+ https://topepo.github.io/caret/train-models-by-tag.html#Neural_Network\n",
    "+ http://stats.stackexchange.com/questions/21717/how-to-train-and-validate-a-neural-network-model-in-r\n",
    "+ http://topepo.github.io/caret/model-training-and-tuning.html\n",
    "+ https://datascienceplus.com/fitting-neural-network-in-r/\n",
    "+ http://www.statmethods.net/input/missingdata.html\n"
   ]
  }
 ],
 "metadata": {
  "kernelspec": {
   "display_name": "R",
   "language": "R",
   "name": "ir"
  },
  "language_info": {
   "codemirror_mode": "r",
   "file_extension": ".r",
   "mimetype": "text/x-r-source",
   "name": "R",
   "pygments_lexer": "r",
   "version": "3.3.2"
  }
 },
 "nbformat": 4,
 "nbformat_minor": 2
}
