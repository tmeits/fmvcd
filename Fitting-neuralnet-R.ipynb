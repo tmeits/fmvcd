{
 "cells": [
  {
   "cell_type": "code",
   "execution_count": 10,
   "metadata": {
    "collapsed": false
   },
   "outputs": [
    {
     "name": "stdout",
     "output_type": "stream",
     "text": [
      "[1] \"R version 3.3.2 (2016-10-31)\"\n"
     ]
    }
   ],
   "source": [
    "# https://www.r-bloggers.com/fitting-a-neural-network-in-r-neuralnet-package/\n",
    "print(R.version.string)\n",
    "require(nnet)\n",
    "require(neuralnet)\n",
    "#install.packages('neuralnet')\n",
    "rm(list=ls())\n"
   ]
  },
  {
   "cell_type": "code",
   "execution_count": 16,
   "metadata": {
    "collapsed": false
   },
   "outputs": [
    {
     "data": {
      "text/html": [
       "<dl class=dl-horizontal>\n",
       "\t<dt>crim</dt>\n",
       "\t\t<dd>0</dd>\n",
       "\t<dt>zn</dt>\n",
       "\t\t<dd>0</dd>\n",
       "\t<dt>indus</dt>\n",
       "\t\t<dd>0</dd>\n",
       "\t<dt>chas</dt>\n",
       "\t\t<dd>0</dd>\n",
       "\t<dt>nox</dt>\n",
       "\t\t<dd>0</dd>\n",
       "\t<dt>rm</dt>\n",
       "\t\t<dd>0</dd>\n",
       "\t<dt>age</dt>\n",
       "\t\t<dd>0</dd>\n",
       "\t<dt>dis</dt>\n",
       "\t\t<dd>0</dd>\n",
       "\t<dt>rad</dt>\n",
       "\t\t<dd>0</dd>\n",
       "\t<dt>tax</dt>\n",
       "\t\t<dd>0</dd>\n",
       "\t<dt>ptratio</dt>\n",
       "\t\t<dd>0</dd>\n",
       "\t<dt>black</dt>\n",
       "\t\t<dd>0</dd>\n",
       "\t<dt>lstat</dt>\n",
       "\t\t<dd>0</dd>\n",
       "\t<dt>medv</dt>\n",
       "\t\t<dd>0</dd>\n",
       "</dl>\n"
      ],
      "text/latex": [
       "\\begin{description*}\n",
       "\\item[crim] 0\n",
       "\\item[zn] 0\n",
       "\\item[indus] 0\n",
       "\\item[chas] 0\n",
       "\\item[nox] 0\n",
       "\\item[rm] 0\n",
       "\\item[age] 0\n",
       "\\item[dis] 0\n",
       "\\item[rad] 0\n",
       "\\item[tax] 0\n",
       "\\item[ptratio] 0\n",
       "\\item[black] 0\n",
       "\\item[lstat] 0\n",
       "\\item[medv] 0\n",
       "\\end{description*}\n"
      ],
      "text/markdown": [
       "crim\n",
       ":   0zn\n",
       ":   0indus\n",
       ":   0chas\n",
       ":   0nox\n",
       ":   0rm\n",
       ":   0age\n",
       ":   0dis\n",
       ":   0rad\n",
       ":   0tax\n",
       ":   0ptratio\n",
       ":   0black\n",
       ":   0lstat\n",
       ":   0medv\n",
       ":   0\n",
       "\n"
      ],
      "text/plain": [
       "   crim      zn   indus    chas     nox      rm     age     dis     rad     tax \n",
       "      0       0       0       0       0       0       0       0       0       0 \n",
       "ptratio   black   lstat    medv \n",
       "      0       0       0       0 "
      ]
     },
     "metadata": {},
     "output_type": "display_data"
    }
   ],
   "source": [
    "set.seed(500)\n",
    "library(MASS)\n",
    "data <- Boston\n",
    "apply(data,2,function(x) sum(is.na(x)))\n"
   ]
  },
  {
   "cell_type": "code",
   "execution_count": 11,
   "metadata": {
    "collapsed": false
   },
   "outputs": [
    {
     "data": {},
     "metadata": {},
     "output_type": "display_data"
    }
   ],
   "source": [
    "# http://mzym.susu.ru/papers/ZymblerM_BigDataNE-14.pdf\n"
   ]
  }
 ],
 "metadata": {
  "kernelspec": {
   "display_name": "R",
   "language": "R",
   "name": "ir"
  },
  "language_info": {
   "codemirror_mode": "r",
   "file_extension": ".r",
   "mimetype": "text/x-r-source",
   "name": "R",
   "pygments_lexer": "r",
   "version": "3.3.2"
  }
 },
 "nbformat": 4,
 "nbformat_minor": 2
}
